{
 "cells": [
  {
   "cell_type": "markdown",
   "id": "adapted-conflict",
   "metadata": {},
   "source": [
    "# Consolidating data from Derivates bhavcopy\n",
    "####"
   ]
  },
  {
   "cell_type": "code",
   "execution_count": 2,
   "id": "exceptional-species",
   "metadata": {},
   "outputs": [],
   "source": [
    "import glob\n",
    "import subprocess\n",
    "import csv\n",
    "import pandas\n",
    "import os\n",
    "from tqdm.notebook import tqdm, trange\n",
    "import pandas as pd"
   ]
  },
  {
   "cell_type": "code",
   "execution_count": 3,
   "id": "standard-lottery",
   "metadata": {},
   "outputs": [
    {
     "data": {
      "application/vnd.jupyter.widget-view+json": {
       "model_id": "610a3e31c1314531a8e665f822b5c128",
       "version_major": 2,
       "version_minor": 0
      },
      "text/plain": [
       "  0%|          | 0/22 [00:00<?, ?it/s]"
      ]
     },
     "metadata": {},
     "output_type": "display_data"
    }
   ],
   "source": [
    "bhav_dir = \"bhavcopy/*.zip\"\n",
    "bhav_csv_dir = \"bhavcopy_csv/*\"\n",
    "zfiles = glob.glob(bhav_dir)\n",
    "for zf in tqdm(zfiles):\n",
    "    subprocess.call([\"unzip\",zf,\"-d\",\"bhavcopy_csv\"])"
   ]
  },
  {
   "cell_type": "code",
   "execution_count": 10,
   "id": "actual-power",
   "metadata": {},
   "outputs": [
    {
     "data": {
      "application/vnd.jupyter.widget-view+json": {
       "model_id": "c86aad8c364044cc9ca15b3967b5be35",
       "version_major": 2,
       "version_minor": 0
      },
      "text/plain": [
       "  0%|          | 0/22 [00:00<?, ?it/s]"
      ]
     },
     "metadata": {},
     "output_type": "display_data"
    }
   ],
   "source": [
    "for csvf in tqdm(sorted(glob.glob(bhav_csv_dir))):\n",
    "    with open(csvf) as rf:\n",
    "        r=csv.reader(rf)\n",
    "        line_count = 0\n",
    "        for row in r:\n",
    "            if line_count != 0:\n",
    "                if row[0] == \"FUTSTK\":\n",
    "                    symbol = row[1]\n",
    "                    expiry = row[2]\n",
    "                    open_p = row[5]\n",
    "                    high = row[6]\n",
    "                    low = row[7]\n",
    "                    close = row[8]\n",
    "                    settle_price = row[9]\n",
    "                    contracts = row[10]\n",
    "                    val_inlakh = row[11]\n",
    "                    oi = row[12]\n",
    "                    chg_in_oi = row[13]\n",
    "                    timestamp = row[14]\n",
    "\n",
    "                    with open(\"symbols/\"+symbol+expiry+\".csv\",\"a\") as wf:\n",
    "                        w = csv.writer(wf)\n",
    "                        w.writerow([symbol,expiry,open_p,high,low,close,settle_price,contracts,val_inlakh,oi,chg_in_oi,timestamp])\n",
    "            line_count+=1"
   ]
  },
  {
   "cell_type": "code",
   "execution_count": null,
   "id": "apparent-mechanics",
   "metadata": {},
   "outputs": [],
   "source": []
  }
 ],
 "metadata": {
  "kernelspec": {
   "display_name": "Python 3",
   "language": "python",
   "name": "python3"
  },
  "language_info": {
   "codemirror_mode": {
    "name": "ipython",
    "version": 3
   },
   "file_extension": ".py",
   "mimetype": "text/x-python",
   "name": "python",
   "nbconvert_exporter": "python",
   "pygments_lexer": "ipython3",
   "version": "3.9.1"
  }
 },
 "nbformat": 4,
 "nbformat_minor": 5
}
