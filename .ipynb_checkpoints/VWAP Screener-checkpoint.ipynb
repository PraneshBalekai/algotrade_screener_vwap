{
 "cells": [
  {
   "cell_type": "code",
   "execution_count": 1,
   "id": "competent-jacksonville",
   "metadata": {},
   "outputs": [],
   "source": [
    "from datetime import date\n",
    "from nsepy import get_history\n",
    "from nsepy.derivatives import get_expiry_date\n",
    "import pandas as pd\n",
    "import csv\n",
    "import sys\n",
    "import os\n",
    "import subprocess\n",
    "import matplotlib.pyplot as plt \n",
    "import matplotlib\n",
    "from tqdm.notebook import tqdm, trange\n",
    "import time"
   ]
  },
  {
   "cell_type": "markdown",
   "id": "theoretical-browse",
   "metadata": {},
   "source": [
    "# Prepare a list of nifty50 symbols\n",
    "### Later change it to the list of symbols for study/research"
   ]
  },
  {
   "cell_type": "code",
   "execution_count": 2,
   "id": "accurate-printing",
   "metadata": {},
   "outputs": [],
   "source": [
    "niftylist=\"ind_nifty50list.csv\"\n",
    "nif50=[]\n",
    "with open(niftylist,\"r\") as rf:\n",
    "    r=csv.reader(rf)\n",
    "    linecount=0\n",
    "    for row in r:\n",
    "        if linecount:\n",
    "            nif50.append(row[2])\n",
    "        linecount+=1\n",
    "more = [\"TATACHEM\"]\n",
    "nif50.extend(more)"
   ]
  },
  {
   "cell_type": "code",
   "execution_count": 3,
   "id": "spiritual-damages",
   "metadata": {},
   "outputs": [],
   "source": [
    "import csv\n",
    "import datetime\n",
    "import requests\n",
    "import urllib\n",
    "import json\n",
    "import yfinance as yf\n",
    "import pandas as pd\n",
    "from collections import defaultdict\n",
    "\n",
    "class nse_data(object):\n",
    "    def __init__(self, symbol, chart_range = '1d', chart_interval = '1m'):\n",
    "        self.symbol = symbol\n",
    "        self.range = chart_range\n",
    "        self.interval = chart_interval\n",
    "        self.data = 0\n",
    "\n",
    "    def get_data(self):\n",
    "        self.data=yf.download(self.symbol, period=self.range, interval=self.interval)\n",
    "        return self.data\n"
   ]
  },
  {
   "cell_type": "code",
   "execution_count": 2,
   "id": "southwest-minority",
   "metadata": {},
   "outputs": [],
   "source": [
    "'''stock_price = get_history(symbol=\"MARUTI\",\n",
    "                   start=date(2017,1,1),\n",
    "                   end=date(2017,1,25))\n",
    "                         #futures=True,\n",
    "                            #expiry_date=max(get_expiry_date(year=2017,month=1)))\n",
    "stock_price.head(5)'''"
   ]
  },
  {
   "cell_type": "markdown",
   "id": "adaptive-feedback",
   "metadata": {},
   "source": [
    "## Collect Data\n",
    "\n",
    "- Get monthly data on the stock and stock future for current expiry\n",
    "- Get next month's data on stock future to identify OI for roll-over\n",
    "- Concatenate collected data to one dataframe"
   ]
  },
  {
   "cell_type": "code",
   "execution_count": 5,
   "id": "prescription-lindsay",
   "metadata": {},
   "outputs": [
    {
     "name": "stdout",
     "output_type": "stream",
     "text": [
      "Expiry date:  2021-11-30\n"
     ]
    },
    {
     "data": {
      "application/vnd.jupyter.widget-view+json": {
       "model_id": "c6b1cd12dced43f39b93b92b3832b014",
       "version_major": 2,
       "version_minor": 0
      },
      "text/plain": [
       "  0%|          | 0/51 [00:00<?, ?it/s]"
      ]
     },
     "metadata": {},
     "output_type": "display_data"
    }
   ],
   "source": [
    "year=2021\n",
    "month=11\n",
    "eval_pass = []\n",
    "print(\"Expiry date: \", max(get_expiry_date(year,month)))\n",
    "for sym in tqdm(nif50):\n",
    "    stock_fut_cur = get_history(symbol=sym,\n",
    "                            start=date(year,month,1),\n",
    "                            #end=max(get_expiry_date(year=year,month=month)),\n",
    "                            end=datetime.date(2021,11,25),\n",
    "                            futures=True,\n",
    "                            #expiry_date=max(get_expiry_date(year=year,month=month)))\n",
    "                            expiry_date=datetime.date(2021,11,25))\n",
    "    '''\n",
    "    if month==12:\n",
    "        n_year=year+1\n",
    "        n_month=1\n",
    "    else:\n",
    "        n_year=year\n",
    "        n_month=month+1\n",
    "    stock_fut_nxt = get_history(symbol=sym,\n",
    "                            start=date(year,month,1),\n",
    "                            end=max(get_expiry_date(year=year,month=month)),\n",
    "                            futures=True,\n",
    "                            expiry_date=max(get_expiry_date(year=n_year,month=n_month)))'''\n",
    "    stock_price = get_history(symbol=sym,\n",
    "                   start=date(year,month,1),\n",
    "                   end=max(get_expiry_date(year=year,month=month)))\n",
    "\n",
    "    if not stock_fut_cur.empty:\n",
    "        #stock_fut_cur['next_oi']=stock_fut_nxt['Open Interest']\n",
    "        stock_fut_cur['%delivery'] = stock_price['%Deliverble']\n",
    "        stock_fut_cur['Underlying'] = stock_price['Close']\n",
    "\n",
    "        stock_fut_cur['coc'] = stock_fut_cur['Close'] - stock_fut_cur['Underlying']\n",
    "        #stock_fut_cur = stock_fut_cur[:-1]\n",
    "        eval_pass.append(stock_fut_cur)"
   ]
  },
  {
   "cell_type": "code",
   "execution_count": 6,
   "id": "documented-samoa",
   "metadata": {},
   "outputs": [],
   "source": [
    "# d = Pandas Dataframe, \n",
    "# ys = [ [cols in the same y], [cols in the same y], [cols in the same y], .. ] \n",
    "def chart(d,ys):\n",
    "\n",
    "    from itertools import cycle\n",
    "    fig, ax = plt.subplots(figsize=(17,7))\n",
    "\n",
    "    axes = [ax]\n",
    "    for y in ys[1:]:\n",
    "        # Twin the x-axis twice to make independent y-axes.\n",
    "        axes.append(ax.twinx())\n",
    "\n",
    "    extra_ys =  len(axes[2:])\n",
    "\n",
    "    # Make some space on the right side for the extra y-axes.\n",
    "    if extra_ys>0:\n",
    "        temp = 0.85\n",
    "        if extra_ys<=2:\n",
    "            temp = 0.75\n",
    "        elif extra_ys<=4:\n",
    "            temp = 0.6\n",
    "        if extra_ys>5:\n",
    "            print ('you are being ridiculous')\n",
    "        fig.subplots_adjust(right=temp)\n",
    "        right_additive = (0.98-temp)/float(extra_ys)\n",
    "    # Move the last y-axis spine over to the right by x% of the width of the axes\n",
    "    i = 1\n",
    "    for ax in axes[2:]:\n",
    "        ax.spines['right'].set_position(('axes', 1.+right_additive*i))\n",
    "        ax.set_frame_on(True)\n",
    "        ax.patch.set_visible(False)\n",
    "        ax.yaxis.set_major_formatter(matplotlib.ticker.OldScalarFormatter())\n",
    "        i +=1.\n",
    "    # To make the border of the right-most axis visible, we need to turn the frame\n",
    "    # on. This hides the other plots, however, so we need to turn its fill off.\n",
    "\n",
    "    cols = []\n",
    "    lines = []\n",
    "    line_styles = cycle(['-','-','-', '--', '-.', ':', '.', ',', 'o', 'v', '^', '<', '>',\n",
    "               '1', '2', '3', '4', 's', 'p', '*', 'h', 'H', '+', 'x', 'D', 'd', '|', '_'])\n",
    "    colors = cycle(matplotlib.rcParams['axes.prop_cycle'])\n",
    "    for ax,y in zip(axes,ys):\n",
    "        #ls=line_styles.next()\n",
    "        ls=next(line_styles)\n",
    "        if len(y)==1:\n",
    "            col = y[0]\n",
    "            cols.append(col)\n",
    "            #color = colors.next()\n",
    "            color=next(colors)['color']\n",
    "            lines.append(ax.plot(d[col],linestyle =ls,label = col,color=color))\n",
    "            ax.set_ylabel(col,color=color)\n",
    "            #ax.tick_params(axis='y', colors=color)\n",
    "            ax.spines['right'].set_color(color)\n",
    "        else:\n",
    "            for col in y:\n",
    "                #color = colors.next()\n",
    "                color=next(colors)['color']\n",
    "                lines.append(ax.plot(d[col],linestyle =ls,label = col,color=color))\n",
    "                cols.append(col)\n",
    "            ax.set_ylabel(', '.join(y))\n",
    "            #ax.tick_params(axis='y')\n",
    "    axes[0].set_xlabel(d.index.name)\n",
    "    lns = lines[0]\n",
    "    for l in lines[1:]:\n",
    "        lns +=l\n",
    "    labs = [l.get_label() for l in lns]\n",
    "    axes[0].legend(lns, labs, loc=0)\n",
    "\n",
    "    plt.show()"
   ]
  },
  {
   "cell_type": "code",
   "execution_count": 7,
   "id": "intelligent-legislation",
   "metadata": {},
   "outputs": [],
   "source": [
    "def chart_v2(df):\n",
    "    fig, ax1 = plt.subplots(figsize=(15, 10))\n",
    "    ax2 = ax1.twinx()\n",
    "    df['Open Interest'].plot(kind='bar', color='y', ax=ax1)\n",
    "    df['coc'].plot(kind='line', color='b', ax=ax2)\n",
    "    ax1.yaxis.tick_right()\n",
    "    ax2.yaxis.tick_left()\n",
    "    plt.show()\n",
    "    return"
   ]
  },
  {
   "cell_type": "markdown",
   "id": "serious-business",
   "metadata": {},
   "source": [
    "## Plot the data and observe\n",
    "\n",
    "- Delta coc from start of month up until expiry is important. It decides whether it's worth squaring off. Assign a threshold.\n",
    "- If delta coc < threshold : plot the graph (remove this criterion when testing in Feb 21 expiry)\n",
    "\n",
    "### Initial thoughts\n",
    "- In the graph, if there is a spike in delivery volume at the beginning of the month, it is more likely to be dumped on expiry day\n",
    "- CoC has been generally high throughout the month\n",
    "- OI is high in the beginning of the month"
   ]
  },
  {
   "cell_type": "code",
   "execution_count": null,
   "id": "technological-airport",
   "metadata": {},
   "outputs": [],
   "source": [
    "\n",
    "his_oi = []\n",
    "his_coc = []\n",
    "\n",
    "for item in tqdm(eval_pass):\n",
    "    try:\n",
    "        #checklist=[\"BAJAJ-AUTO\",\"DIVISLAB\",\"DRREDDY\",\"HCLTECH\",\"HDFCBANK\",\"HINDUNILVR\",\"IOC\",\"KOTAKBANK\",\"SBIN\",\"WIPRO\",\"TCS\"]\n",
    "        checklist = nif50\n",
    "        item.drop(item.tail(1).index,inplace=True)\n",
    "        if item.iloc[0]['Symbol'] in checklist:\n",
    "            per_delta_coc = (item.iloc[0]['coc']-item.iloc[-1]['coc'])/item.iloc[0]['coc']\n",
    "            per_delta_oi = (item.iloc[0]['Open Interest']/item.iloc[-1]['Open Interest'])\n",
    "            his_oi.append(per_delta_oi)\n",
    "            his_coc.append(per_delta_coc)\n",
    "            print(\"Symbol: \",item.iloc[0]['Symbol'])\n",
    "            print(\"Expiry: \",item.iloc[0]['Expiry'])\n",
    "            print(\"%Change in CoC: \",per_delta_coc)\n",
    "            print(\"Factor in current OI: \", per_delta_oi)\n",
    "            #chart(item,[['%delivery'],['Open Interest'],['next_oi'],['coc']])\n",
    "            \n",
    "            #chart(item,[['Open Interest'],['coc']])\n",
    "            \n",
    "            #chart_v2(item)\n",
    "\n",
    "            #filename = \"live_data_collection/\"+item.iloc[0]['Symbol'] + str(item.iloc[0]['Expiry']) + \".csv\"\n",
    "            #item.to_csv(filename, mode='a', header=True)\n",
    "            #data = nse_data(item.iloc[0]['Symbol']+\".NS\").get_data()\n",
    "            #data.to_csv(filename, mode='a', header=True)\n",
    "    except Exception as e:\n",
    "        print(e)\n",
    "        pass\n"
   ]
  },
  {
   "cell_type": "markdown",
   "id": "moving-joyce",
   "metadata": {},
   "source": [
    "### Plot historic bar graphs of OI and COC over a few months to observe comparative differences in these values over time"
   ]
  },
  {
   "cell_type": "code",
   "execution_count": 9,
   "id": "tropical-section",
   "metadata": {},
   "outputs": [],
   "source": [
    "fn_oi = \"live_data_collection/historic_factors_oi.csv\"\n",
    "with open(fn_oi, 'a') as f:\n",
    "    w=csv.writer(f)\n",
    "    w.writerow(his_oi)"
   ]
  },
  {
   "cell_type": "code",
   "execution_count": 10,
   "id": "peripheral-speed",
   "metadata": {},
   "outputs": [],
   "source": [
    "fn_coc = \"live_data_collection/historic_factors_coc.csv\"\n",
    "with open(fn_coc, 'a') as f:\n",
    "    w=csv.writer(f)\n",
    "    w.writerow(his_coc)"
   ]
  },
  {
   "cell_type": "code",
   "execution_count": null,
   "id": "adequate-eating",
   "metadata": {},
   "outputs": [],
   "source": [
    "import numpy as np\n",
    "fn_oi = \"live_data_collection/historic_factors_oi.csv\"\n",
    "fn_coc = \"live_data_collection/historic_factors_coc.csv\"\n",
    "csv_table_oi = np.genfromtxt(fn_oi, delimiter=\",\",dtype=None)\n",
    "transposed_oi = csv_table_oi.T\n",
    "\n",
    "csv_table_coc = np.genfromtxt(fn_coc, delimiter=\",\",dtype=None)\n",
    "transposed_coc = csv_table_coc.T\n"
   ]
  },
  {
   "cell_type": "code",
   "execution_count": null,
   "id": "damaged-essay",
   "metadata": {},
   "outputs": [],
   "source": [
    "import matplotlib.pyplot as plt\n",
    "xa = [\"June 21\", \"July 21\", \"Aug 21\", \"Sept 21\", \"Oct 21\", \"Nov 21\"]\n",
    "'''\n",
    "c=0\n",
    "for row in transposed_oi:\n",
    "    for i in row[1:len(row)]:\n",
    "        xa.append(c)\n",
    "        c+=1\n",
    "    break\n",
    "'''\n",
    "count = 0\n",
    "for row in transposed_oi:\n",
    "    l = len(row)\n",
    "    fig, (ax1, ax2) = plt.subplots(1, 2, figsize=(15,5))\n",
    "    fig.suptitle(str(row[0]))\n",
    "\n",
    "    ya_oi = [float(i) for i in row[1:l]]\n",
    "    ya_coc = [float(i) for i in transposed_coc[count][1:l]]\n",
    "    ax1.bar(xa, ya_oi, color=\"maroon\")\n",
    "    ax2.bar(xa, ya_coc) \n",
    "    plt.show()\n",
    "    count+=1"
   ]
  }
 ],
 "metadata": {
  "kernelspec": {
   "display_name": "Python 3",
   "language": "python",
   "name": "python3"
  },
  "language_info": {
   "codemirror_mode": {
    "name": "ipython",
    "version": 3
   },
   "file_extension": ".py",
   "mimetype": "text/x-python",
   "name": "python",
   "nbconvert_exporter": "python",
   "pygments_lexer": "ipython3",
   "version": "3.9.1"
  }
 },
 "nbformat": 4,
 "nbformat_minor": 5
}
