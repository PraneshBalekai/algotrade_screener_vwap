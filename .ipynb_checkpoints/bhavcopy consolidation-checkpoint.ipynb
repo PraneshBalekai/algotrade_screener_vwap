{
 "cells": [
  {
   "cell_type": "code",
   "execution_count": 2,
   "id": "imperial-action",
   "metadata": {},
   "outputs": [],
   "source": [
    "import glob\n",
    "import subprocess\n",
    "import csv\n",
    "import pandas\n",
    "import os\n",
    "from tqdm.notebook import tqdm, trange\n",
    "import pandas as pd"
   ]
  },
  {
   "cell_type": "code",
   "execution_count": 3,
   "id": "destroyed-wonder",
   "metadata": {},
   "outputs": [
    {
     "data": {
      "application/vnd.jupyter.widget-view+json": {
       "model_id": "610a3e31c1314531a8e665f822b5c128",
       "version_major": 2,
       "version_minor": 0
      },
      "text/plain": [
       "  0%|          | 0/22 [00:00<?, ?it/s]"
      ]
     },
     "metadata": {},
     "output_type": "display_data"
    }
   ],
   "source": [
    "bhav_dir = \"bhavcopy/*.zip\"\n",
    "bhav_csv_dir = \"bhavcopy_csv/*\"\n",
    "zfiles = glob.glob(bhav_dir)\n",
    "for zf in tqdm(zfiles):\n",
    "    subprocess.call([\"unzip\",zf,\"-d\",\"bhavcopy_csv\"])"
   ]
  },
  {
   "cell_type": "code",
   "execution_count": 4,
   "id": "egyptian-loading",
   "metadata": {},
   "outputs": [
    {
     "data": {
      "application/vnd.jupyter.widget-view+json": {
       "model_id": "a68c0b2d72364f88b874656186fd6055",
       "version_major": 2,
       "version_minor": 0
      },
      "text/plain": [
       "  0%|          | 0/22 [00:00<?, ?it/s]"
      ]
     },
     "metadata": {},
     "output_type": "display_data"
    },
    {
     "data": {
      "application/vnd.jupyter.widget-view+json": {
       "model_id": "f720ab28b1a145b0882cdc1f57193b98",
       "version_major": 2,
       "version_minor": 0
      },
      "text/plain": [
       "0it [00:00, ?it/s]"
      ]
     },
     "metadata": {},
     "output_type": "display_data"
    }
   ],
   "source": [
    "for csvf in tqdm(glob.glob(bhav_csv_dir)):\n",
    "    with open(csvf) as rf:\n",
    "        r=csv.reader(rf)\n",
    "        line_count = 0\n",
    "        for row in tqdm(r):\n",
    "            if line_count != 0:\n",
    "                if row[0] == \"FUTSTK\":\n",
    "                    symbol = row[1]\n",
    "                    expiry = row[2]\n",
    "                    open_p = row[5]\n",
    "                    high = row[6]\n",
    "                    low = row[7]\n",
    "                    close = row[8]\n",
    "                    settle_price = row[9]\n",
    "                    contracts = row[10]\n",
    "                    val_inlakh = row[11]\n",
    "                    oi = row[12]\n",
    "                    chg_in_oi = row[13]\n",
    "                    timestamp = row[14]\n",
    "\n",
    "                    with open(\"symbols/\"+symbol+\".csv\",\"a\") as wf:\n",
    "                        w = csv.writer(wf)\n",
    "                        w.writerow([symbol,expiry,open_p,high,low,close,settle_price,contracts,val_inlakh,oi,chg_in_oi,timestamp])\n",
    "            line_count+=1\n",
    "    break"
   ]
  },
  {
   "cell_type": "code",
   "execution_count": null,
   "id": "operating-participant",
   "metadata": {},
   "outputs": [],
   "source": []
  }
 ],
 "metadata": {
  "kernelspec": {
   "display_name": "Python 3",
   "language": "python",
   "name": "python3"
  },
  "language_info": {
   "codemirror_mode": {
    "name": "ipython",
    "version": 3
   },
   "file_extension": ".py",
   "mimetype": "text/x-python",
   "name": "python",
   "nbconvert_exporter": "python",
   "pygments_lexer": "ipython3",
   "version": "3.9.1"
  }
 },
 "nbformat": 4,
 "nbformat_minor": 5
}
